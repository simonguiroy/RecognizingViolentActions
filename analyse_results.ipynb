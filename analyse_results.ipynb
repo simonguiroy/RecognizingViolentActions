{
 "cells": [
  {
   "cell_type": "code",
   "execution_count": 326,
   "metadata": {
    "collapsed": true
   },
   "outputs": [],
   "source": [
    "import numpy as np\n",
    "\n",
    "action_classes = [x.strip() for x in open('label_map.txt')]\n",
    "res = np.load('i3d-ViolentHumanActions_v0-joint.npz')\n",
    "preds = res['preds']\n",
    "truth_labels_txt = res['truth_labels']\n",
    "truth_labels = np.zeros([truth_labels_txt.shape[0],1])\n",
    "\n",
    "for i in range(truth_labels.shape[0]):\n",
    "    truth_labels[i] = int( action_classes.index(truth_labels_txt[i]) )\n",
    "    \n",
    "\n",
    "\n",
    "def topN_acc(preds, truth_labels, n=1):\n",
    "    top_preds = np.argsort(preds, 1)\n",
    "    topN_preds = top_preds[:,-n:,:]\n",
    "    is_topN = np.zeros([preds.shape[0], preds.shape[2]])\n",
    "    for stream in range(preds.shape[2]):\n",
    "        for i in range(preds.shape[0]):\n",
    "            is_topN[i,stream] = np.isin(truth_labels[i], topN_preds[i,:,stream])\n",
    "        \n",
    "    return np.sum(is_topN,0) / is_topN.shape[0]\n",
    "\n",
    "def confusion_matrix(preds, truth_labels, stream='rgb'):\n",
    "    stream_idx = {'rgb': 0, 'flow': 1, 'joint': 2}\n",
    "    conf_matrix = np.zeros([400,400])\n",
    "    top_preds = np.argmax(preds, 1)\n",
    "    for i in range(truth_labels.shape[0]):\n",
    "        conf_matrix[int(truth_labels[i,0]),top_preds[i,stream_idx[stream]]] += 1\n",
    "    \n",
    "    return conf_matrix\n",
    "\n",
    "def summary_confmat(conf_mat, truth_labels, k=10):\n",
    "    _summary_confmat = []\n",
    "    for x in np.unique(truth_labels).astype(int):\n",
    "        sorted_args = np.flip( np.argsort(conf_matrix_rgb[x,:])[-10:],0 )\n",
    "        sorted_values = np.flip( np.sort(conf_matrix_rgb[x,:])[-10:],0 )\n",
    "        _summary_confmat.append([action_classes[x], [np.take(action_classes, sorted_args), sorted_values]])\n",
    "    return _summary_confmat"
   ]
  },
  {
   "cell_type": "code",
   "execution_count": 327,
   "metadata": {},
   "outputs": [
    {
     "name": "stdout",
     "output_type": "stream",
     "text": [
      "[0.6 0. ]\n",
      "[0.75 0.  ]\n",
      "[0.8 0. ]\n"
     ]
    }
   ],
   "source": [
    "n_res = 20\n",
    "\n",
    "\n",
    "top1_acc = topN_acc(preds[0:n_res,:,:], truth_labels[0:n_res],n=1)\n",
    "top5_acc = topN_acc(preds[0:n_res,:,:], truth_labels[0:n_res],n=5)\n",
    "top10_acc = topN_acc(preds[0:n_res,:,:], truth_labels[0:n_res],n=10)\n",
    "\n",
    "print (top1_acc)\n",
    "print (top5_acc)\n",
    "print (top10_acc)"
   ]
  },
  {
   "cell_type": "code",
   "execution_count": 328,
   "metadata": {},
   "outputs": [],
   "source": [
    "conf_matrix_rgb = confusion_matrix(preds[0:n_res,:,:], truth_labels[0:n_res], 'rgb')\n",
    "conf_matrix_flow = confusion_matrix(preds[0:n_res,:,:], truth_labels[0:n_res], 'flow')\n",
    "#conf_matrix_joint = confusion_matrix(preds[0:n_res,:,:], truth_labels[0:n_res], 'joint')"
   ]
  },
  {
   "cell_type": "code",
   "execution_count": 329,
   "metadata": {},
   "outputs": [],
   "source": [
    "summary_confmat_rgb = summary_confmat(conf_matrix_rgb, truth_labels[0:n_res], k=10)"
   ]
  },
  {
   "cell_type": "code",
   "execution_count": null,
   "metadata": {
    "collapsed": true
   },
   "outputs": [],
   "source": []
  }
 ],
 "metadata": {
  "kernelspec": {
   "display_name": "Python 3",
   "language": "python",
   "name": "python3"
  },
  "language_info": {
   "codemirror_mode": {
    "name": "ipython",
    "version": 3
   },
   "file_extension": ".py",
   "mimetype": "text/x-python",
   "name": "python",
   "nbconvert_exporter": "python",
   "pygments_lexer": "ipython3",
   "version": "3.6.2"
  }
 },
 "nbformat": 4,
 "nbformat_minor": 2
}
